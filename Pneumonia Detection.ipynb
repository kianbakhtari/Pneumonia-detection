{
 "cells": [
  {
   "cell_type": "code",
   "execution_count": null,
   "metadata": {
    "execution": {
     "iopub.execute_input": "2021-07-06T20:47:01.023435Z",
     "iopub.status.busy": "2021-07-06T20:47:01.022899Z",
     "iopub.status.idle": "2021-07-06T20:47:01.029574Z",
     "shell.execute_reply": "2021-07-06T20:47:01.028808Z",
     "shell.execute_reply.started": "2021-07-06T20:47:01.023403Z"
    },
    "id": "Kj937Tc3h6Ie"
   },
   "outputs": [],
   "source": [
    "import os\n",
    "os.getcwd()"
   ]
  },
  {
   "cell_type": "code",
   "execution_count": null,
   "metadata": {
    "id": "MKMdOnYIiFaw"
   },
   "outputs": [],
   "source": [
    "zip_path = '../gdrive/MyDrive/Kaggle/chest-xray-pneumonia.zip'\n",
    "from google.colab import drive\n",
    "drive.mount('/gdrive')"
   ]
  },
  {
   "cell_type": "code",
   "execution_count": null,
   "metadata": {
    "execution": {
     "iopub.execute_input": "2021-07-07T13:20:38.747383Z",
     "iopub.status.busy": "2021-07-07T13:20:38.746769Z",
     "iopub.status.idle": "2021-07-07T13:20:39.487187Z",
     "shell.execute_reply": "2021-07-07T13:20:39.485806Z",
     "shell.execute_reply.started": "2021-07-07T13:20:38.747338Z"
    },
    "id": "UZbin2tfiSZc"
   },
   "outputs": [],
   "source": [
    "!cp '../gdrive/MyDrive/Kaggle/chest-xray-pneumonia.zip' '/content'"
   ]
  },
  {
   "cell_type": "code",
   "execution_count": null,
   "metadata": {
    "execution": {
     "iopub.execute_input": "2021-07-07T13:20:39.490037Z",
     "iopub.status.busy": "2021-07-07T13:20:39.489565Z",
     "iopub.status.idle": "2021-07-07T13:20:40.232371Z",
     "shell.execute_reply": "2021-07-07T13:20:40.230934Z",
     "shell.execute_reply.started": "2021-07-07T13:20:39.489981Z"
    },
    "id": "DrSWVtyKiUJG"
   },
   "outputs": [],
   "source": [
    "!unzip -q 'chest-xray-pneumonia.zip'"
   ]
  },
  {
   "cell_type": "code",
   "execution_count": null,
   "metadata": {
    "execution": {
     "iopub.execute_input": "2021-07-11T13:33:36.897844Z",
     "iopub.status.busy": "2021-07-11T13:33:36.897518Z",
     "iopub.status.idle": "2021-07-11T13:33:36.902567Z",
     "shell.execute_reply": "2021-07-11T13:33:36.901386Z",
     "shell.execute_reply.started": "2021-07-11T13:33:36.897814Z"
    },
    "id": "2ttXF15ve0uM"
   },
   "outputs": [],
   "source": [
    "# !pip install colorama"
   ]
  },
  {
   "cell_type": "code",
   "execution_count": 1,
   "metadata": {
    "execution": {
     "iopub.execute_input": "2021-07-11T19:00:21.853529Z",
     "iopub.status.busy": "2021-07-11T19:00:21.853118Z",
     "iopub.status.idle": "2021-07-11T19:00:22.584308Z",
     "shell.execute_reply": "2021-07-11T19:00:22.583485Z",
     "shell.execute_reply.started": "2021-07-11T19:00:21.853449Z"
    },
    "id": "Bm8-hhu7N9Ki"
   },
   "outputs": [],
   "source": [
    "import torch\n",
    "import torch.nn as nn\n",
    "import torch.nn.functional as F\n",
    "import numpy as np\n",
    "from torchvision import datasets\n",
    "import torchvision.transforms as transforms\n",
    "from torch.utils.data.sampler import SubsetRandomSampler\n",
    "from matplotlib import pyplot as plt\n",
    "import sys\n",
    "# import colorama\n",
    "from collections import OrderedDict\n",
    "from matplotlib import pyplot as plt \n",
    "import torch.optim as optim\n",
    "from torch.utils.data import TensorDataset, DataLoader\n",
    "torch.set_printoptions(precision=3)\n",
    "import torchvision\n",
    "import os\n",
    "import sklearn.metrics as met\n",
    "\n",
    "num_workers = 2\n",
    "batch_size = 128\n",
    "\n",
    "device = torch.device('cuda') "
   ]
  },
  {
   "cell_type": "code",
   "execution_count": 2,
   "metadata": {
    "execution": {
     "iopub.execute_input": "2021-07-11T19:00:26.635001Z",
     "iopub.status.busy": "2021-07-11T19:00:26.634658Z",
     "iopub.status.idle": "2021-07-11T19:00:28.246451Z",
     "shell.execute_reply": "2021-07-11T19:00:28.245568Z",
     "shell.execute_reply.started": "2021-07-11T19:00:26.634971Z"
    },
    "id": "kNflreCwN_Ms"
   },
   "outputs": [],
   "source": [
    "PATH = '../input/chest-xray-pneumonia/chest_xray/'\n",
    "\n",
    "default_transform = transforms.Compose([transforms.Grayscale(1), transforms.Resize((216, 216)), transforms.ToTensor()])\n",
    "train_data = datasets.ImageFolder(PATH + 'train', transform=default_transform)\n",
    "test_data = datasets.ImageFolder(PATH + 'test', transform=default_transform)\n",
    "val_data = datasets.ImageFolder(PATH + 'val', transform=default_transform)\n",
    "\n",
    "\n",
    "def random_transforms():\n",
    "    all_to_apply = [transforms.Grayscale(1)]\n",
    "    all_to_apply.append(transforms.RandomRotation(degrees=np.random.randint(2, 15)))\n",
    "#     all_to_apply.append(transforms.RandomAutocontrast(0.7))\n",
    "    all_to_apply.append(transforms.RandomAffine(degrees=0, translate=(0.1, 0.1)))\n",
    "    all_to_apply.append(transforms.GaussianBlur(kernel_size=(3, 3), sigma=(np.random.uniform(0.1, 0.2), np.random.randint(1, 2))))\n",
    "    all_to_apply.append(transforms.RandomHorizontalFlip(p=0.5))\n",
    "    all_to_apply.append(transforms.Resize((216, 216)))\n",
    "    all_to_apply.append(transforms.ToTensor())\n",
    "    return all_to_apply\n",
    "        \n",
    "aug1_transforms = transforms.Compose(random_transforms())\n",
    "aug1_train_data = datasets.ImageFolder(PATH + 'train', transform=aug1_transforms)\n",
    "        \n",
    "aug2_transforms = transforms.Compose([transforms.Grayscale(1), transforms.RandomRotation(degrees=np.random.randint(2, 5)),\\\n",
    "                                      transforms.RandomAffine(degrees=0, translate=(0.05, 0.05)), transforms.Resize((216, 216)),\\\n",
    "                                      transforms.ToTensor()])\n",
    "aug2_train_data = datasets.ImageFolder(PATH + 'train', transform=aug2_transforms)\n",
    "        \n",
    "aug3_transforms = transforms.Compose([transforms.Grayscale(1), transforms.Resize((216, 216)),\\\n",
    "                                      transforms.RandomAffine(degrees=3, translate=(0.08, 0.08)), transforms.RandomCrop(size=180),\\\n",
    "                                      transforms.Resize((216, 216)),  transforms.ToTensor()])\n",
    "aug3_train_data = datasets.ImageFolder(PATH + 'train', transform=aug3_transforms)\n",
    "\n",
    "aug4_transforms = transforms.Compose([transforms.Grayscale(1), transforms.Resize((216, 216)),\\\n",
    "                                      transforms.RandomAffine(degrees=5, translate=(0.1, 0.1)), transforms.RandomCrop(size=160),\\\n",
    "                                      transforms.Resize((216, 216)),  transforms.ToTensor()])\n",
    "aug4_train_data = datasets.ImageFolder(PATH + 'train', transform=aug4_transforms)\n",
    "\n",
    "aug5_transforms = transforms.Compose([transforms.Grayscale(1), transforms.Resize((216, 216)),\\\n",
    "                                      transforms.GaussianBlur(kernel_size=(5, 5), sigma=(np.random.uniform(0.05, 0.15), np.random.randint(1, 2))),\\\n",
    "                                      transforms.RandomAffine(degrees=7, translate=(0.2, 0.2)), transforms.CenterCrop(size=160),\\\n",
    "                                      transforms.RandomHorizontalFlip(p=0.3),\\\n",
    "                                      transforms.Resize((216, 216)),  transforms.ToTensor()])\n",
    "aug5_train_data = datasets.ImageFolder(PATH + 'train', transform=aug5_transforms)\n",
    "\n",
    "aug6_transforms = transforms.Compose([transforms.Grayscale(1),\\\n",
    "                                      transforms.RandomAffine(degrees=3, translate=(0.1, 0.1)), transforms.Resize((216, 216)),\\\n",
    "                                      transforms.RandomCrop(size=160), transforms.RandomHorizontalFlip(p=0.3),\\\n",
    "                                      transforms.Resize((216, 216)),  transforms.ToTensor()])\n",
    "aug6_train_data = datasets.ImageFolder(PATH + 'train', transform=aug6_transforms)\n",
    "\n",
    "\n",
    "for i, img in enumerate(os.listdir(PATH + 'train/PNEUMONIA')):\n",
    "    path = os.path.join(PATH + 'train/PNEUMONIA', img)\n",
    "    if np.random.uniform() < 0.5:\n",
    "        train_data.imgs.remove((path, 1))\n",
    "    if np.random.uniform() < 0.667:\n",
    "        aug1_train_data.imgs.remove((path, 1))\n",
    "    if np.random.uniform() < 0.8:\n",
    "        aug2_train_data.imgs.remove((path, 1))\n",
    "    if np.random.uniform() < 0.7:\n",
    "        aug3_train_data.imgs.remove((path, 1))\n",
    "    if np.random.uniform() < 0.7:\n",
    "        aug4_train_data.imgs.remove((path, 1))\n",
    "    if np.random.uniform() < 0.7:\n",
    "        aug5_train_data.imgs.remove((path, 1))\n",
    "    if np.random.uniform() < 0.7:\n",
    "        aug6_train_data.imgs.remove((path, 1))\n",
    "    "
   ]
  },
  {
   "cell_type": "code",
   "execution_count": 3,
   "metadata": {
    "execution": {
     "iopub.execute_input": "2021-07-11T19:00:30.251037Z",
     "iopub.status.busy": "2021-07-11T19:00:30.250710Z",
     "iopub.status.idle": "2021-07-11T19:00:30.257662Z",
     "shell.execute_reply": "2021-07-11T19:00:30.256741Z",
     "shell.execute_reply.started": "2021-07-11T19:00:30.251004Z"
    },
    "id": "x9IJOE0bemH2",
    "outputId": "66aa608a-9c4b-4e79-8272-1a873350329e"
   },
   "outputs": [
    {
     "name": "stdout",
     "output_type": "stream",
     "text": [
      "{'NORMAL': 0, 'PNEUMONIA': 1}\n",
      "{'NORMAL': 0, 'PNEUMONIA': 1}\n",
      "{'NORMAL': 0, 'PNEUMONIA': 1}\n",
      "{'NORMAL': 0, 'PNEUMONIA': 1}\n",
      "{'NORMAL': 0, 'PNEUMONIA': 1}\n",
      "{'NORMAL': 0, 'PNEUMONIA': 1}\n",
      "{'NORMAL': 0, 'PNEUMONIA': 1}\n",
      "{'NORMAL': 0, 'PNEUMONIA': 1}\n",
      "{'NORMAL': 0, 'PNEUMONIA': 1}\n"
     ]
    }
   ],
   "source": [
    "print(aug1_train_data.class_to_idx)\n",
    "print(aug2_train_data.class_to_idx)\n",
    "print(aug3_train_data.class_to_idx)\n",
    "print(aug4_train_data.class_to_idx)\n",
    "print(aug5_train_data.class_to_idx)\n",
    "print(aug6_train_data.class_to_idx)\n",
    "print(train_data.class_to_idx)\n",
    "print(test_data.class_to_idx)\n",
    "print(val_data.class_to_idx)"
   ]
  },
  {
   "cell_type": "code",
   "execution_count": 4,
   "metadata": {
    "execution": {
     "iopub.execute_input": "2021-07-11T19:00:32.597173Z",
     "iopub.status.busy": "2021-07-11T19:00:32.596848Z",
     "iopub.status.idle": "2021-07-11T19:00:32.609437Z",
     "shell.execute_reply": "2021-07-11T19:00:32.608346Z",
     "shell.execute_reply.started": "2021-07-11T19:00:32.597140Z"
    },
    "id": "Xeo3rZ6VOJss"
   },
   "outputs": [],
   "source": [
    "def sampler(dataset):\n",
    "    return SubsetRandomSampler(np.random.choice(np.array(list(range(len(dataset)))), size=len(dataset), replace=False))\n",
    "\n",
    "def loader(dataset):\n",
    "    return torch.utils.data.DataLoader(dataset, \n",
    "\t\t\t\t\t\t\t\t\t   batch_size = batch_size,\n",
    "                                       sampler = sampler(dataset),\n",
    "                                       num_workers = num_workers)\n",
    "\n",
    "train_loader = loader(train_data)\n",
    "\n",
    "aug1_loader, aug2_loader, aug3_loader, aug4_loader, aug5_loader, aug6_loader =\\\n",
    "loader(aug1_train_data), loader(aug2_train_data), loader(aug3_train_data), loader(aug4_train_data),\\\n",
    "                                                  loader(aug5_train_data), loader(aug6_train_data)\n",
    "\n",
    "val_loader = torch.utils.data.DataLoader(val_data, batch_size = 16,\\\n",
    "                                                   sampler = sampler(val_data),\\\n",
    "                                                   num_workers = num_workers)\n",
    "\n",
    "test_loader = torch.utils.data.DataLoader(test_data, batch_size = batch_size,\n",
    "                                                     num_workers = num_workers)"
   ]
  },
  {
   "cell_type": "code",
   "execution_count": 5,
   "metadata": {
    "execution": {
     "iopub.execute_input": "2021-07-11T19:00:33.829005Z",
     "iopub.status.busy": "2021-07-11T19:00:33.828684Z",
     "iopub.status.idle": "2021-07-11T19:00:33.832368Z",
     "shell.execute_reply": "2021-07-11T19:00:33.831399Z",
     "shell.execute_reply.started": "2021-07-11T19:00:33.828974Z"
    }
   },
   "outputs": [],
   "source": [
    "# for i, (img, l) in enumerate(train_loader):\n",
    "#     if i > 5:\n",
    "#         break\n",
    "#     print(l)\n"
   ]
  },
  {
   "cell_type": "code",
   "execution_count": 6,
   "metadata": {
    "execution": {
     "iopub.execute_input": "2021-07-11T19:00:34.890703Z",
     "iopub.status.busy": "2021-07-11T19:00:34.890340Z",
     "iopub.status.idle": "2021-07-11T19:00:34.895099Z",
     "shell.execute_reply": "2021-07-11T19:00:34.893721Z",
     "shell.execute_reply.started": "2021-07-11T19:00:34.890672Z"
    }
   },
   "outputs": [],
   "source": [
    "# device = torch.device('cuda:0' if torch.cuda.is_available() else 'cpu')\n",
    "# from torchvision.transforms.functional import to_tensor, to_pil_image\n",
    "# device = torch.device('cpu')\n",
    "# def visualize_images(dataloader, device):\n",
    "#     data, labels = next(iter(dataloader))\n",
    "#     data, labels = data[:12].to(device), labels[:12]\n",
    "#     # predictions = model(data).max(1)[1]\n",
    "    \n",
    "#     # predictions, data = predictions.cpu(), data.cpu()\n",
    "#     plt.figure(figsize=(20,12))\n",
    "#     for i in range(12):\n",
    "#         img = data.squeeze(1)[i]\n",
    "#         plt.subplot(2, 6, i+1)\n",
    "#         plt.imshow(to_pil_image(img), cmap=\"gray\", interpolation=\"none\")\n",
    "#         plt.xlabel(labels[i].item(), fontsize=18)\n",
    "#         plt.xticks([])\n",
    "#         plt.yticks([])    \n",
    "    \n",
    "# visualize_images(train_loader, device)"
   ]
  },
  {
   "cell_type": "code",
   "execution_count": 7,
   "metadata": {
    "execution": {
     "iopub.execute_input": "2021-07-11T19:00:35.960478Z",
     "iopub.status.busy": "2021-07-11T19:00:35.960089Z",
     "iopub.status.idle": "2021-07-11T19:00:35.964555Z",
     "shell.execute_reply": "2021-07-11T19:00:35.963307Z",
     "shell.execute_reply.started": "2021-07-11T19:00:35.960443Z"
    },
    "id": "Y391nkeVemH4"
   },
   "outputs": [],
   "source": [
    "# transformations = transforms.Compose([\n",
    "#     transforms.Resize((216, 216)),\n",
    "#     transforms.ToTensor()\n",
    "# ])\n",
    "\n",
    "# train_dataM = datasets.MNIST('./data', \n",
    "#                             train = True, \n",
    "#                             download = False,\n",
    "#                             transform = transformations)\n",
    "\n",
    "# test_dataM = datasets.MNIST('./data', \n",
    "#                             train = False, \n",
    "#                             download = False,\n",
    "#                             transform = transformations)\n",
    "\n",
    "# train_loaderM = torch.utils.data.DataLoader(train_dataM, batch_size=256, shuffle=True)\n",
    "# test_loaderM = torch.utils.data.DataLoader(test_dataM, batch_size=1024, shuffle=False)"
   ]
  },
  {
   "cell_type": "code",
   "execution_count": 11,
   "metadata": {
    "execution": {
     "iopub.execute_input": "2021-07-11T19:01:18.156602Z",
     "iopub.status.busy": "2021-07-11T19:01:18.156218Z",
     "iopub.status.idle": "2021-07-11T19:01:18.181583Z",
     "shell.execute_reply": "2021-07-11T19:01:18.180465Z",
     "shell.execute_reply.started": "2021-07-11T19:01:18.156571Z"
    },
    "id": "snoXxXjUORQz"
   },
   "outputs": [],
   "source": [
    "class ResBlock1(nn.Module):\n",
    "    def __init__(self, init_pad, k_size, s1, s2, skip_resize, pools, poolstride, inchan, bnorm2depth, skp_in_ch, a, b):\n",
    "        super(ResBlock1, self).__init__()\n",
    "        self.zpad = nn.ZeroPad2d(init_pad)\n",
    "        self.c1 = nn.Conv2d(in_channels=inchan, out_channels=16, kernel_size=(k_size, k_size), stride=s1)\n",
    "        nn.init.kaiming_normal_(self.c1.weight)\n",
    "        self.bnorm = nn.BatchNorm2d(16)        \n",
    "        self.c2 = nn.Conv2d(in_channels=16, out_channels=a, kernel_size=(k_size, k_size), stride=s2)\n",
    "        nn.init.kaiming_normal_(self.c2.weight)\n",
    "        self.bnormc2 = nn.BatchNorm2d(a)\n",
    "        self.downConv = nn.Conv2d(in_channels=skp_in_ch, out_channels=a, kernel_size=(pools, pools), stride=poolstride)\n",
    "        nn.init.kaiming_normal_(self.downConv.weight)\n",
    "        self.dro = nn.Dropout(0.4)\n",
    "        self.resize = transforms.Resize((skip_resize, skip_resize))\n",
    "        self.bnorm2 = nn.BatchNorm2d(bnorm2depth)\n",
    "\n",
    "    def forward(self, x):\n",
    "        out = self.zpad(x)\n",
    "        out = self.c1(out)\n",
    "        out = self.bnorm(out)\n",
    "        out = F.relu(out)\n",
    "        out = self.c2(out)\n",
    "        out = self.bnormc2(out)\n",
    "        new = self.bnorm2(self.downConv(x))\n",
    "        new = self.resize(new)\n",
    "        out = out + new\n",
    "        out = F.relu(out)\n",
    "#         out = self.dro(out)\n",
    "        return out\n",
    "    \n",
    "    \n",
    "    \n",
    "class ResBlock2(nn.Module):\n",
    "    def __init__(self, init_pad, k_size, s1, s2, skip_resize, pools, poolstride, inchan, bnorm2depth, skp_in_ch, a, b):\n",
    "        super(ResBlock2, self).__init__()\n",
    "        self.zpad = nn.ZeroPad2d(init_pad)\n",
    "        self.c1 = nn.Conv2d(in_channels=inchan, out_channels=b, kernel_size=(k_size, k_size), stride=s1)\n",
    "        nn.init.kaiming_normal_(self.c1.weight)\n",
    "        self.bnorm = nn.BatchNorm2d(b)        \n",
    "        self.c2 = nn.Conv2d(in_channels=b, out_channels=b, kernel_size=(k_size, k_size), stride=s2)\n",
    "        nn.init.kaiming_normal_(self.c2.weight)\n",
    "        self.bnormc2 = nn.BatchNorm2d(b)\n",
    "        self.downConv = nn.Conv2d(in_channels=skp_in_ch, out_channels=b, kernel_size=(pools, pools), stride=poolstride)\n",
    "        nn.init.kaiming_normal_(self.downConv.weight)\n",
    "        self.dro = nn.Dropout(0.4)\n",
    "        self.resize = transforms.Resize((skip_resize, skip_resize))\n",
    "        self.bnorm2 = nn.BatchNorm2d(bnorm2depth)\n",
    "        \n",
    "    def forward(self, x):\n",
    "        out = self.zpad(x)\n",
    "        out = self.c1(out)\n",
    "        out = self.bnorm(out)\n",
    "        out = F.relu(out)\n",
    "        out = self.c2(out)\n",
    "        out = self.bnormc2(out)\n",
    "        new = self.bnorm2(self.downConv(x))\n",
    "        new = self.resize(new)\n",
    "        out = out + new\n",
    "        out = F.relu(out)\n",
    "#         out = self.dro(out)\n",
    "        return out\n",
    "    \n",
    "    \n",
    "class ResNet(nn.Module):\n",
    "    def __init__(self, x, y):\n",
    "        super(ResNet, self).__init__()\n",
    "        self.resb1 = ResBlock1(init_pad=5, k_size=7, s1=3, s2=1, skip_resize=68, pools=5, poolstride=3, inchan=1, bnorm2depth=x, skp_in_ch=1, a=x, b=y)\n",
    "        self.resb2 = ResBlock2(init_pad=0, k_size=5, s1=1, s2=1, skip_resize=60, pools=3, poolstride=1, inchan=x, bnorm2depth=y, skp_in_ch=x, a=x, b=y)\n",
    "        self.resb3 = ResBlock2(init_pad=0, k_size=3, s1=1, s2=1, skip_resize=56, pools=5, poolstride=1, inchan=y, bnorm2depth=y, skp_in_ch=y, a=x, b=y)\n",
    "        self.f5 = nn.Linear(in_features=125440, out_features=600)\n",
    "        nn.init.kaiming_normal_(self.f5.weight)\n",
    "        self.f6 = nn.Linear(in_features=600, out_features=2)\n",
    "        nn.init.kaiming_normal_(self.f6.weight)\n",
    "        self.dro = nn.Dropout(0.4)\n",
    "        \n",
    "    def forward(self, imgs):\n",
    "        out = self.resb1(imgs)\n",
    "        out = self.resb2(out)\n",
    "        out = self.resb3(out)\n",
    "        out = out.view(out.shape[0], -1)\n",
    "        out = self.f5(out)\n",
    "        out = F.relu(out)\n",
    "#         out = self.dro(out)\n",
    "        out = self.f6(out)\n",
    "        out = F.softmax(out, dim=-1)\n",
    "        return out"
   ]
  },
  {
   "cell_type": "code",
   "execution_count": 12,
   "metadata": {
    "execution": {
     "iopub.execute_input": "2021-07-11T19:01:19.998156Z",
     "iopub.status.busy": "2021-07-11T19:01:19.997824Z",
     "iopub.status.idle": "2021-07-11T19:01:21.575257Z",
     "shell.execute_reply": "2021-07-11T19:01:21.574288Z",
     "shell.execute_reply.started": "2021-07-11T19:01:19.998123Z"
    },
    "id": "g6OiBLnDfB9x"
   },
   "outputs": [],
   "source": [
    "conv_net = ResNet(x=24, y=40)"
   ]
  },
  {
   "cell_type": "code",
   "execution_count": 13,
   "metadata": {
    "execution": {
     "iopub.execute_input": "2021-07-11T19:01:22.857157Z",
     "iopub.status.busy": "2021-07-11T19:01:22.856830Z",
     "iopub.status.idle": "2021-07-11T19:01:22.933731Z",
     "shell.execute_reply": "2021-07-11T19:01:22.932817Z",
     "shell.execute_reply.started": "2021-07-11T19:01:22.857125Z"
    },
    "id": "rnRpTwsmfIwI",
    "outputId": "f3d8781c-3a4e-4e82-8ac7-aaeac3757b3a"
   },
   "outputs": [
    {
     "name": "stdout",
     "output_type": "stream",
     "text": [
      "out.shape: \n",
      "torch.Size([1, 2])\n"
     ]
    }
   ],
   "source": [
    "input = torch.randn(1, 1, 216, 216)  # batch_size, num_channels, height, width\n",
    "out = conv_net(input)\n",
    "# print(\"Log-Probabilities: \\n%s\\n\" % out)\n",
    "# print(\"Probabilities: \\n%s\\n\" % torch.exp(out))\n",
    "print(\"out.shape: \\n%s\" % (out.shape,))"
   ]
  },
  {
   "cell_type": "code",
   "execution_count": 14,
   "metadata": {
    "execution": {
     "iopub.execute_input": "2021-07-11T19:01:24.452934Z",
     "iopub.status.busy": "2021-07-11T19:01:24.452608Z",
     "iopub.status.idle": "2021-07-11T19:01:24.458007Z",
     "shell.execute_reply": "2021-07-11T19:01:24.456926Z",
     "shell.execute_reply.started": "2021-07-11T19:01:24.452903Z"
    }
   },
   "outputs": [
    {
     "name": "stdout",
     "output_type": "stream",
     "text": [
      "ResNet(\n",
      "  (resb1): ResBlock1(\n",
      "    (zpad): ZeroPad2d(padding=(5, 5, 5, 5), value=0.0)\n",
      "    (c1): Conv2d(1, 16, kernel_size=(7, 7), stride=(3, 3))\n",
      "    (bnorm): BatchNorm2d(16, eps=1e-05, momentum=0.1, affine=True, track_running_stats=True)\n",
      "    (c2): Conv2d(16, 24, kernel_size=(7, 7), stride=(1, 1))\n",
      "    (bnormc2): BatchNorm2d(24, eps=1e-05, momentum=0.1, affine=True, track_running_stats=True)\n",
      "    (downConv): Conv2d(1, 24, kernel_size=(5, 5), stride=(3, 3))\n",
      "    (dro): Dropout(p=0.4, inplace=False)\n",
      "    (resize): Resize(size=(68, 68), interpolation=PIL.Image.BILINEAR)\n",
      "    (bnorm2): BatchNorm2d(24, eps=1e-05, momentum=0.1, affine=True, track_running_stats=True)\n",
      "  )\n",
      "  (resb2): ResBlock2(\n",
      "    (zpad): ZeroPad2d(padding=(0, 0, 0, 0), value=0.0)\n",
      "    (c1): Conv2d(24, 40, kernel_size=(5, 5), stride=(1, 1))\n",
      "    (bnorm): BatchNorm2d(40, eps=1e-05, momentum=0.1, affine=True, track_running_stats=True)\n",
      "    (c2): Conv2d(40, 40, kernel_size=(5, 5), stride=(1, 1))\n",
      "    (bnormc2): BatchNorm2d(40, eps=1e-05, momentum=0.1, affine=True, track_running_stats=True)\n",
      "    (downConv): Conv2d(24, 40, kernel_size=(3, 3), stride=(1, 1))\n",
      "    (dro): Dropout(p=0.4, inplace=False)\n",
      "    (resize): Resize(size=(60, 60), interpolation=PIL.Image.BILINEAR)\n",
      "    (bnorm2): BatchNorm2d(40, eps=1e-05, momentum=0.1, affine=True, track_running_stats=True)\n",
      "  )\n",
      "  (resb3): ResBlock2(\n",
      "    (zpad): ZeroPad2d(padding=(0, 0, 0, 0), value=0.0)\n",
      "    (c1): Conv2d(40, 40, kernel_size=(3, 3), stride=(1, 1))\n",
      "    (bnorm): BatchNorm2d(40, eps=1e-05, momentum=0.1, affine=True, track_running_stats=True)\n",
      "    (c2): Conv2d(40, 40, kernel_size=(3, 3), stride=(1, 1))\n",
      "    (bnormc2): BatchNorm2d(40, eps=1e-05, momentum=0.1, affine=True, track_running_stats=True)\n",
      "    (downConv): Conv2d(40, 40, kernel_size=(5, 5), stride=(1, 1))\n",
      "    (dro): Dropout(p=0.4, inplace=False)\n",
      "    (resize): Resize(size=(56, 56), interpolation=PIL.Image.BILINEAR)\n",
      "    (bnorm2): BatchNorm2d(40, eps=1e-05, momentum=0.1, affine=True, track_running_stats=True)\n",
      "  )\n",
      "  (f5): Linear(in_features=125440, out_features=600, bias=True)\n",
      "  (f6): Linear(in_features=600, out_features=2, bias=True)\n",
      "  (dro): Dropout(p=0.4, inplace=False)\n",
      ")\n"
     ]
    }
   ],
   "source": [
    "print(conv_net)"
   ]
  },
  {
   "cell_type": "code",
   "execution_count": 15,
   "metadata": {
    "execution": {
     "iopub.execute_input": "2021-07-11T19:01:25.749032Z",
     "iopub.status.busy": "2021-07-11T19:01:25.748704Z",
     "iopub.status.idle": "2021-07-11T19:01:25.759764Z",
     "shell.execute_reply": "2021-07-11T19:01:25.758738Z",
     "shell.execute_reply.started": "2021-07-11T19:01:25.749001Z"
    }
   },
   "outputs": [
    {
     "name": "stdout",
     "output_type": "stream",
     "text": [
      "len(params): 40\n",
      "\n",
      "resb1.c1.weight:\ttorch.Size([16, 1, 7, 7])\n",
      "resb1.c1.bias:\ttorch.Size([16])\n",
      "resb1.bnorm.weight:\ttorch.Size([16])\n",
      "resb1.bnorm.bias:\ttorch.Size([16])\n",
      "resb1.c2.weight:\ttorch.Size([24, 16, 7, 7])\n",
      "resb1.c2.bias:\ttorch.Size([24])\n",
      "resb1.bnormc2.weight:\ttorch.Size([24])\n",
      "resb1.bnormc2.bias:\ttorch.Size([24])\n",
      "resb1.downConv.weight:\ttorch.Size([24, 1, 5, 5])\n",
      "resb1.downConv.bias:\ttorch.Size([24])\n",
      "resb1.bnorm2.weight:\ttorch.Size([24])\n",
      "resb1.bnorm2.bias:\ttorch.Size([24])\n",
      "resb2.c1.weight:\ttorch.Size([40, 24, 5, 5])\n",
      "resb2.c1.bias:\ttorch.Size([40])\n",
      "resb2.bnorm.weight:\ttorch.Size([40])\n",
      "resb2.bnorm.bias:\ttorch.Size([40])\n",
      "resb2.c2.weight:\ttorch.Size([40, 40, 5, 5])\n",
      "resb2.c2.bias:\ttorch.Size([40])\n",
      "resb2.bnormc2.weight:\ttorch.Size([40])\n",
      "resb2.bnormc2.bias:\ttorch.Size([40])\n",
      "resb2.downConv.weight:\ttorch.Size([40, 24, 3, 3])\n",
      "resb2.downConv.bias:\ttorch.Size([40])\n",
      "resb2.bnorm2.weight:\ttorch.Size([40])\n",
      "resb2.bnorm2.bias:\ttorch.Size([40])\n",
      "resb3.c1.weight:\ttorch.Size([40, 40, 3, 3])\n",
      "resb3.c1.bias:\ttorch.Size([40])\n",
      "resb3.bnorm.weight:\ttorch.Size([40])\n",
      "resb3.bnorm.bias:\ttorch.Size([40])\n",
      "resb3.c2.weight:\ttorch.Size([40, 40, 3, 3])\n",
      "resb3.c2.bias:\ttorch.Size([40])\n",
      "resb3.bnormc2.weight:\ttorch.Size([40])\n",
      "resb3.bnormc2.bias:\ttorch.Size([40])\n",
      "resb3.downConv.weight:\ttorch.Size([40, 40, 5, 5])\n",
      "resb3.downConv.bias:\ttorch.Size([40])\n",
      "resb3.bnorm2.weight:\ttorch.Size([40])\n",
      "resb3.bnorm2.bias:\ttorch.Size([40])\n",
      "f5.weight:\ttorch.Size([600, 125440])\n",
      "f5.bias:\ttorch.Size([600])\n",
      "f6.weight:\ttorch.Size([2, 600])\n",
      "f6.bias:\ttorch.Size([2])\n"
     ]
    }
   ],
   "source": [
    "named_params = list(conv_net.named_parameters())\n",
    "print(\"len(params): %s\\n\" % len(named_params))\n",
    "for name, param in named_params:\n",
    "    print(\"%s:\\t%s\" % (name, param.shape))"
   ]
  },
  {
   "cell_type": "code",
   "execution_count": 24,
   "metadata": {
    "execution": {
     "iopub.execute_input": "2021-07-11T19:27:48.087783Z",
     "iopub.status.busy": "2021-07-11T19:27:48.087403Z",
     "iopub.status.idle": "2021-07-11T19:27:48.103756Z",
     "shell.execute_reply": "2021-07-11T19:27:48.102628Z",
     "shell.execute_reply.started": "2021-07-11T19:27:48.087746Z"
    },
    "id": "ALyDqWfTemH6"
   },
   "outputs": [],
   "source": [
    "from torch.optim.lr_scheduler import ExponentialLR, ReduceLROnPlateau\n",
    "test_acc_all, train_acc_all, val_acc_all, train_loss_all = [], [], [], []\n",
    "acc_all, f1_all, prec_all, rec_all = [], [], [], []\n",
    "\n",
    "def train_cnn(model, train_loader, aug1_loader, aug2_loader, aug3_loader, aug4_loader, aug5_loader, aug6_loader, test_loader, val_loader, device, num_epochs=10, lr=1e-4):\n",
    "    optimizer = torch.optim.Adam(model.parameters(), lr=lr)\n",
    "    criterion = torch.nn.BCELoss()\n",
    "    scheduler = ExponentialLR(optimizer, gamma=0.75)\n",
    "    blocks, best_acc = 0, 0\n",
    "    for epoch in range(num_epochs):\n",
    "        print(\"=\" * 25, \"Starting epoch %d\" % (epoch + 1), \"=\" * 25)\n",
    "        names = ['train_loader', 'aug1_loader', 'aug2_loader', 'aug3_loader', 'aug4_loader', 'aug5_loader', 'aug6_loader']\n",
    "        for d_idx, dataloader in enumerate([train_loader, aug1_loader, aug2_loader, aug3_loader, aug4_loader, aug5_loader, aug6_loader]):\n",
    "            for batch_idx, (data, labels) in enumerate(dataloader):\n",
    "                model.train()\n",
    "                data, labels = data.to(device), labels.to(device)\n",
    "                optimizer.zero_grad()\n",
    "                output = model(data)\n",
    "                loss = criterion(output[:, 1].to(torch.float64), labels.to(torch.float64))\n",
    "                loss.backward()\n",
    "                optimizer.step()\n",
    "                if batch_idx % 15 == 0:\n",
    "                    print(\"\\nstarting batch %d/%d, Loss=%.4f\" % (batch_idx, len(dataloader), loss.item()), end=' ')\n",
    "                    print('on: ', names[d_idx])\n",
    "                    train_acc = accuracy(model, train_loader, device)\n",
    "                    val_acc = accuracy(model, val_loader, device)\n",
    "                    test_acc = accuracy(model, test_loader, device)\n",
    "                    if val_acc > best_acc:\n",
    "                        torch.save(model.state_dict(), 'model.pt')\n",
    "                        best_acc = val_acc\n",
    "                    print(colorama.Fore.GREEN, \"Accuracy on training: %.2f%%\" % (100*train_acc))\n",
    "                    print(\"Accuracy on val: %.2f%%\" % (100*val_acc))                \n",
    "                    print(\"Accuracy on test: %.2f%%\" % (100*test_acc), colorama.Fore.RESET); \n",
    "                    test_acc_all.append(test_acc); train_acc_all.append(train_acc); val_acc_all.append(val_acc); train_loss_all.append(loss.item());\n",
    "                    blocks += 1\n",
    "        acc, f1, prec, rec = score(model, test_loader, device)\n",
    "        acc_all.append(acc); f1_all.append(f1); prec_all.append(prec); rec_all.append(rec);\n",
    "        plot_train(test_acc_all, train_acc_all, val_acc_all, train_loss_all, blocks)\n",
    "        scheduler.step()\n",
    "        if (epoch+1) % 3 == 0:\n",
    "            plot_scores(acc_all, f1_all, prec_all, rec_all, epoch=epoch+1)\n",
    "            "
   ]
  },
  {
   "cell_type": "code",
   "execution_count": 17,
   "metadata": {
    "execution": {
     "iopub.execute_input": "2021-07-11T19:01:28.601210Z",
     "iopub.status.busy": "2021-07-11T19:01:28.600880Z",
     "iopub.status.idle": "2021-07-11T19:01:28.613917Z",
     "shell.execute_reply": "2021-07-11T19:01:28.612818Z",
     "shell.execute_reply.started": "2021-07-11T19:01:28.601179Z"
    },
    "id": "Ij_4VEF5emH7"
   },
   "outputs": [],
   "source": [
    "def accuracy(model, dataloader, device):\n",
    "    model.eval()\n",
    "    num_correct = 0\n",
    "    num_samples = 0\n",
    "    with torch.no_grad():\n",
    "        for data, labels in dataloader:\n",
    "            data, labels = data.to(device), labels.to(device)\n",
    "            predictions = model(data).max(1)[1]\n",
    "            num_correct += (predictions == labels).sum().item()\n",
    "            num_samples += predictions.shape[0]\n",
    "    return num_correct / num_samples\n",
    "\n",
    "def print_score(y_test, pred):\n",
    "    print('Accuracy:  ', met.accuracy_score(y_test, pred))\n",
    "    print('F1_score:  ', met.f1_score(y_test, pred))\n",
    "    print('Precision: ', met.precision_score(y_test, pred))\n",
    "    print('Recall:    ', met.recall_score(y_test, pred))\n",
    "    \n",
    "def score(model, dataloader, device):\n",
    "    model.eval()\n",
    "    pred, y_test = [], []\n",
    "    with torch.no_grad():\n",
    "        for data, labels in dataloader:\n",
    "            data, labels = data.to(device), labels.to(device)\n",
    "            pred += list(model(data).max(1)[1].cpu().numpy())\n",
    "            y_test += list(labels.cpu().numpy())\n",
    "    print_score(y_test, pred)\n",
    "    return met.accuracy_score(y_test, pred), met.f1_score(y_test, pred),\\\n",
    "    met.precision_score(y_test, pred),\\\n",
    "    met.recall_score(y_test, pred)\n",
    "\n",
    "def plot_conmat(model, dataloader, device):\n",
    "    model.eval()\n",
    "    pred, y_test = [], []\n",
    "    with torch.no_grad():\n",
    "        for data, labels in dataloader:\n",
    "            data, labels = data.to(device), labels.to(device)\n",
    "            pred += list(model(data).max(1)[1].cpu().numpy())\n",
    "            y_test += list(labels.cpu().numpy())\n",
    "    c = met.confusion_matrix(y_test, pred)\n",
    "    disp = met.ConfusionMatrixDisplay(c)\n",
    "    plt.figure(figsize=(10, 6))\n",
    "    disp.plot()"
   ]
  },
  {
   "cell_type": "code",
   "execution_count": 18,
   "metadata": {
    "execution": {
     "iopub.execute_input": "2021-07-11T19:01:29.957764Z",
     "iopub.status.busy": "2021-07-11T19:01:29.957443Z",
     "iopub.status.idle": "2021-07-11T19:01:29.966229Z",
     "shell.execute_reply": "2021-07-11T19:01:29.965114Z",
     "shell.execute_reply.started": "2021-07-11T19:01:29.957734Z"
    }
   },
   "outputs": [],
   "source": [
    "def plot_train(test_acc_all, train_acc_all, val_acc_all, train_loss_all, blocks):\n",
    "    plt.figure(figsize=(10, 6))\n",
    "    x = np.arange(blocks)\n",
    "    plt.plot(x, train_acc_all, label='train accuracy');\n",
    "    plt.plot(x, val_acc_all, label='validation accuracy');\n",
    "    plt.plot(x, test_acc_all, label='test accuracy');\n",
    "#     plt.plot(reg, mean_f1, label='F1_score');\n",
    "    plt.xlabel('15-Batch training blocks');\n",
    "    plt.ylabel('Model accuracy');\n",
    "    plt.title('Model prediction accuracy by training batches');\n",
    "    plt.legend();\n",
    "    plt.show();\n",
    "    \n",
    "def plot_scores(acc_all, f1_all, prec_all, rec_all, epoch):\n",
    "    plt.figure(figsize=(10, 6))\n",
    "    x = np.arange(epoch)\n",
    "    plt.plot(x, acc_all, label='test accuracy');\n",
    "    plt.plot(x, f1_all, label='test F1 score');\n",
    "    plt.plot(x, prec_all, label='test precision');\n",
    "    plt.plot(x, rec_all, label='test_recall');\n",
    "    plt.xlabel('Number of trained epochs');\n",
    "    plt.ylabel('Model scores');\n",
    "    plt.title('Model prediction scores on test data by training epochs');\n",
    "    plt.legend();\n",
    "    plt.show();"
   ]
  },
  {
   "cell_type": "code",
   "execution_count": 19,
   "metadata": {
    "execution": {
     "iopub.execute_input": "2021-07-11T19:01:31.254054Z",
     "iopub.status.busy": "2021-07-11T19:01:31.253714Z",
     "iopub.status.idle": "2021-07-11T19:23:53.223151Z",
     "shell.execute_reply": "2021-07-11T19:23:53.220244Z",
     "shell.execute_reply.started": "2021-07-11T19:01:31.254023Z"
    },
    "id": "8-FcPyJEemH7"
   },
   "outputs": [
    {
     "name": "stdout",
     "output_type": "stream",
     "text": [
      "========================= Starting epoch 1 =========================\n",
      "\n",
      "starting batch 0/26, Loss=0.9711 on:  train_loader\n",
      "\u001b[32m Accuracy on training: 40.77%\n",
      "Accuracy on val: 50.00%\n",
      "Accuracy on test: 37.18% \u001b[39m\n",
      "\n",
      "starting batch 15/26, Loss=0.2674 on:  train_loader\n",
      "\u001b[32m Accuracy on training: 68.75%\n",
      "Accuracy on val: 56.25%\n",
      "Accuracy on test: 63.62% \u001b[39m\n",
      "\n",
      "starting batch 0/21, Loss=0.5276 on:  aug1_loader\n",
      "\u001b[32m Accuracy on training: 91.65%\n",
      "Accuracy on val: 75.00%\n",
      "Accuracy on test: 74.20% \u001b[39m\n",
      "\n",
      "starting batch 15/21, Loss=0.2379 on:  aug1_loader\n",
      "\u001b[32m Accuracy on training: 95.58%\n",
      "Accuracy on val: 62.50%\n",
      "Accuracy on test: 75.80% \u001b[39m\n",
      "\n",
      "starting batch 0/17, Loss=0.2281 on:  aug2_loader\n",
      "\u001b[32m Accuracy on training: 96.31%\n",
      "Accuracy on val: 62.50%\n",
      "Accuracy on test: 77.72% \u001b[39m\n",
      "\n",
      "starting batch 15/17, Loss=0.1136 on:  aug2_loader\n",
      "\u001b[32m Accuracy on training: 96.82%\n",
      "Accuracy on val: 81.25%\n",
      "Accuracy on test: 83.17% \u001b[39m\n",
      "\n",
      "starting batch 0/20, Loss=0.3515 on:  aug3_loader\n",
      "\u001b[32m Accuracy on training: 94.46%\n",
      "Accuracy on val: 93.75%\n",
      "Accuracy on test: 86.70% \u001b[39m\n",
      "\n",
      "starting batch 15/20, Loss=0.2744 on:  aug3_loader\n",
      "\u001b[32m Accuracy on training: 91.80%\n",
      "Accuracy on val: 81.25%\n",
      "Accuracy on test: 87.50% \u001b[39m\n",
      "\n",
      "starting batch 0/20, Loss=0.2991 on:  aug4_loader\n",
      "\u001b[32m Accuracy on training: 92.98%\n",
      "Accuracy on val: 87.50%\n",
      "Accuracy on test: 88.46% \u001b[39m\n",
      "\n",
      "starting batch 15/20, Loss=0.3137 on:  aug4_loader\n",
      "\u001b[32m Accuracy on training: 84.21%\n",
      "Accuracy on val: 75.00%\n",
      "Accuracy on test: 77.56% \u001b[39m\n",
      "\n",
      "starting batch 0/20, Loss=0.4129 on:  aug5_loader\n",
      "\u001b[32m Accuracy on training: 82.27%\n",
      "Accuracy on val: 68.75%\n",
      "Accuracy on test: 75.48% \u001b[39m\n",
      "\n",
      "starting batch 15/20, Loss=0.3285 on:  aug5_loader\n",
      "\u001b[32m Accuracy on training: 85.96%\n",
      "Accuracy on val: 68.75%\n",
      "Accuracy on test: 81.41% \u001b[39m\n",
      "\n",
      "starting batch 0/20, Loss=0.3649 on:  aug6_loader\n",
      "\u001b[32m Accuracy on training: 77.25%\n",
      "Accuracy on val: 68.75%\n",
      "Accuracy on test: 72.12% \u001b[39m\n",
      "\n",
      "starting batch 15/20, Loss=0.2543 on:  aug6_loader\n",
      "\u001b[32m Accuracy on training: 80.16%\n",
      "Accuracy on val: 68.75%\n",
      "Accuracy on test: 75.32% \u001b[39m\n",
      "Accuracy:   0.7740384615384616\n",
      "F1_score:   0.7904903417533433\n",
      "Precision:  0.9399293286219081\n",
      "Recall:     0.6820512820512821\n"
     ]
    },
    {
     "data": {
      "image/png": "[encoded data removed]",
      "text/plain": [
       "<Figure size 720x432 with 1 Axes>"
      ]
     },
     "metadata": {
      "needs_background": "light"
     },
     "output_type": "display_data"
    },
    {
     "name": "stdout",
     "output_type": "stream",
     "text": [
      "========================= Starting epoch 2 =========================\n",
      "\n",
      "starting batch 0/26, Loss=0.2791 on:  train_loader\n"
     ]
    },
    {
     "ename": "KeyboardInterrupt",
     "evalue": "",
     "output_type": "error",
     "traceback": [
      "\u001b[0;31m---------------------------------------------------------------------------\u001b[0m",
      "\u001b[0;31mKeyboardInterrupt\u001b[0m                         Traceback (most recent call last)",
      "\u001b[0;32m<ipython-input-19-d755adef455c>\u001b[0m in \u001b[0;36m<module>\u001b[0;34m\u001b[0m\n\u001b[1;32m      2\u001b[0m \u001b[0mconv_net\u001b[0m \u001b[0;34m=\u001b[0m \u001b[0mconv_net\u001b[0m\u001b[0;34m.\u001b[0m\u001b[0mto\u001b[0m\u001b[0;34m(\u001b[0m\u001b[0mdevice\u001b[0m\u001b[0;34m)\u001b[0m\u001b[0;34m\u001b[0m\u001b[0;34m\u001b[0m\u001b[0m\n\u001b[1;32m      3\u001b[0m \u001b[0;34m\u001b[0m\u001b[0m\n\u001b[0;32m----> 4\u001b[0;31m \u001b[0mtrain_cnn\u001b[0m\u001b[0;34m(\u001b[0m\u001b[0mconv_net\u001b[0m\u001b[0;34m,\u001b[0m \u001b[0mtrain_loader\u001b[0m\u001b[0;34m,\u001b[0m \u001b[0maug1_loader\u001b[0m\u001b[0;34m,\u001b[0m \u001b[0maug2_loader\u001b[0m\u001b[0;34m,\u001b[0m \u001b[0maug3_loader\u001b[0m\u001b[0;34m,\u001b[0m \u001b[0maug4_loader\u001b[0m\u001b[0;34m,\u001b[0m \u001b[0maug5_loader\u001b[0m\u001b[0;34m,\u001b[0m \u001b[0maug6_loader\u001b[0m\u001b[0;34m,\u001b[0m \u001b[0mtest_loader\u001b[0m\u001b[0;34m,\u001b[0m \u001b[0mval_loader\u001b[0m\u001b[0;34m,\u001b[0m \u001b[0mdevice\u001b[0m\u001b[0;34m,\u001b[0m \u001b[0mnum_epochs\u001b[0m\u001b[0;34m=\u001b[0m\u001b[0;36m30\u001b[0m\u001b[0;34m,\u001b[0m \u001b[0mlr\u001b[0m\u001b[0;34m=\u001b[0m\u001b[0;36m1e-5\u001b[0m\u001b[0;34m)\u001b[0m\u001b[0;34m\u001b[0m\u001b[0;34m\u001b[0m\u001b[0m\n\u001b[0m",
      "\u001b[0;32m<ipython-input-16-db689052537d>\u001b[0m in \u001b[0;36mtrain_cnn\u001b[0;34m(model, train_loader, aug1_loader, aug2_loader, aug3_loader, aug4_loader, aug5_loader, aug6_loader, test_loader, val_loader, device, num_epochs, lr)\u001b[0m\n\u001b[1;32m     23\u001b[0m                     \u001b[0mprint\u001b[0m\u001b[0;34m(\u001b[0m\u001b[0;34m\"\\nstarting batch %d/%d, Loss=%.4f\"\u001b[0m \u001b[0;34m%\u001b[0m \u001b[0;34m(\u001b[0m\u001b[0mbatch_idx\u001b[0m\u001b[0;34m,\u001b[0m \u001b[0mlen\u001b[0m\u001b[0;34m(\u001b[0m\u001b[0mdataloader\u001b[0m\u001b[0;34m)\u001b[0m\u001b[0;34m,\u001b[0m \u001b[0mloss\u001b[0m\u001b[0;34m.\u001b[0m\u001b[0mitem\u001b[0m\u001b[0;34m(\u001b[0m\u001b[0;34m)\u001b[0m\u001b[0;34m)\u001b[0m\u001b[0;34m,\u001b[0m \u001b[0mend\u001b[0m\u001b[0;34m=\u001b[0m\u001b[0;34m' '\u001b[0m\u001b[0;34m)\u001b[0m\u001b[0;34m\u001b[0m\u001b[0;34m\u001b[0m\u001b[0m\n\u001b[1;32m     24\u001b[0m                     \u001b[0mprint\u001b[0m\u001b[0;34m(\u001b[0m\u001b[0;34m'on: '\u001b[0m\u001b[0;34m,\u001b[0m \u001b[0mnames\u001b[0m\u001b[0;34m[\u001b[0m\u001b[0md_idx\u001b[0m\u001b[0;34m]\u001b[0m\u001b[0;34m)\u001b[0m\u001b[0;34m\u001b[0m\u001b[0;34m\u001b[0m\u001b[0m\n\u001b[0;32m---> 25\u001b[0;31m                     \u001b[0mtrain_acc\u001b[0m \u001b[0;34m=\u001b[0m \u001b[0maccuracy\u001b[0m\u001b[0;34m(\u001b[0m\u001b[0mmodel\u001b[0m\u001b[0;34m,\u001b[0m \u001b[0mtrain_loader\u001b[0m\u001b[0;34m,\u001b[0m \u001b[0mdevice\u001b[0m\u001b[0;34m)\u001b[0m\u001b[0;34m\u001b[0m\u001b[0;34m\u001b[0m\u001b[0m\n\u001b[0m\u001b[1;32m     26\u001b[0m                     \u001b[0mval_acc\u001b[0m \u001b[0;34m=\u001b[0m \u001b[0maccuracy\u001b[0m\u001b[0;34m(\u001b[0m\u001b[0mmodel\u001b[0m\u001b[0;34m,\u001b[0m \u001b[0mval_loader\u001b[0m\u001b[0;34m,\u001b[0m \u001b[0mdevice\u001b[0m\u001b[0;34m)\u001b[0m\u001b[0;34m\u001b[0m\u001b[0;34m\u001b[0m\u001b[0m\n\u001b[1;32m     27\u001b[0m                     \u001b[0mtest_acc\u001b[0m \u001b[0;34m=\u001b[0m \u001b[0maccuracy\u001b[0m\u001b[0;34m(\u001b[0m\u001b[0mmodel\u001b[0m\u001b[0;34m,\u001b[0m \u001b[0mtest_loader\u001b[0m\u001b[0;34m,\u001b[0m \u001b[0mdevice\u001b[0m\u001b[0;34m)\u001b[0m\u001b[0;34m\u001b[0m\u001b[0;34m\u001b[0m\u001b[0m\n",
      "\u001b[0;32m<ipython-input-17-daaf21b50c27>\u001b[0m in \u001b[0;36maccuracy\u001b[0;34m(model, dataloader, device)\u001b[0m\n\u001b[1;32m      4\u001b[0m     \u001b[0mnum_samples\u001b[0m \u001b[0;34m=\u001b[0m \u001b[0;36m0\u001b[0m\u001b[0;34m\u001b[0m\u001b[0;34m\u001b[0m\u001b[0m\n\u001b[1;32m      5\u001b[0m     \u001b[0;32mwith\u001b[0m \u001b[0mtorch\u001b[0m\u001b[0;34m.\u001b[0m\u001b[0mno_grad\u001b[0m\u001b[0;34m(\u001b[0m\u001b[0;34m)\u001b[0m\u001b[0;34m:\u001b[0m\u001b[0;34m\u001b[0m\u001b[0;34m\u001b[0m\u001b[0m\n\u001b[0;32m----> 6\u001b[0;31m         \u001b[0;32mfor\u001b[0m \u001b[0mdata\u001b[0m\u001b[0;34m,\u001b[0m \u001b[0mlabels\u001b[0m \u001b[0;32min\u001b[0m \u001b[0mdataloader\u001b[0m\u001b[0;34m:\u001b[0m\u001b[0;34m\u001b[0m\u001b[0;34m\u001b[0m\u001b[0m\n\u001b[0m\u001b[1;32m      7\u001b[0m             \u001b[0mdata\u001b[0m\u001b[0;34m,\u001b[0m \u001b[0mlabels\u001b[0m \u001b[0;34m=\u001b[0m \u001b[0mdata\u001b[0m\u001b[0;34m.\u001b[0m\u001b[0mto\u001b[0m\u001b[0;34m(\u001b[0m\u001b[0mdevice\u001b[0m\u001b[0;34m)\u001b[0m\u001b[0;34m,\u001b[0m \u001b[0mlabels\u001b[0m\u001b[0;34m.\u001b[0m\u001b[0mto\u001b[0m\u001b[0;34m(\u001b[0m\u001b[0mdevice\u001b[0m\u001b[0;34m)\u001b[0m\u001b[0;34m\u001b[0m\u001b[0;34m\u001b[0m\u001b[0m\n\u001b[1;32m      8\u001b[0m             \u001b[0mpredictions\u001b[0m \u001b[0;34m=\u001b[0m \u001b[0mmodel\u001b[0m\u001b[0;34m(\u001b[0m\u001b[0mdata\u001b[0m\u001b[0;34m)\u001b[0m\u001b[0;34m.\u001b[0m\u001b[0mmax\u001b[0m\u001b[0;34m(\u001b[0m\u001b[0;36m1\u001b[0m\u001b[0;34m)\u001b[0m\u001b[0;34m[\u001b[0m\u001b[0;36m1\u001b[0m\u001b[0;34m]\u001b[0m\u001b[0;34m\u001b[0m\u001b[0;34m\u001b[0m\u001b[0m\n",
      "\u001b[0;32m/opt/conda/lib/python3.7/site-packages/torch/utils/data/dataloader.py\u001b[0m in \u001b[0;36m__next__\u001b[0;34m(self)\u001b[0m\n\u001b[1;32m    433\u001b[0m         \u001b[0;32mif\u001b[0m \u001b[0mself\u001b[0m\u001b[0;34m.\u001b[0m\u001b[0m_sampler_iter\u001b[0m \u001b[0;32mis\u001b[0m \u001b[0;32mNone\u001b[0m\u001b[0;34m:\u001b[0m\u001b[0;34m\u001b[0m\u001b[0;34m\u001b[0m\u001b[0m\n\u001b[1;32m    434\u001b[0m             \u001b[0mself\u001b[0m\u001b[0;34m.\u001b[0m\u001b[0m_reset\u001b[0m\u001b[0;34m(\u001b[0m\u001b[0;34m)\u001b[0m\u001b[0;34m\u001b[0m\u001b[0;34m\u001b[0m\u001b[0m\n\u001b[0;32m--> 435\u001b[0;31m         \u001b[0mdata\u001b[0m \u001b[0;34m=\u001b[0m \u001b[0mself\u001b[0m\u001b[0;34m.\u001b[0m\u001b[0m_next_data\u001b[0m\u001b[0;34m(\u001b[0m\u001b[0;34m)\u001b[0m\u001b[0;34m\u001b[0m\u001b[0;34m\u001b[0m\u001b[0m\n\u001b[0m\u001b[1;32m    436\u001b[0m         \u001b[0mself\u001b[0m\u001b[0;34m.\u001b[0m\u001b[0m_num_yielded\u001b[0m \u001b[0;34m+=\u001b[0m \u001b[0;36m1\u001b[0m\u001b[0;34m\u001b[0m\u001b[0;34m\u001b[0m\u001b[0m\n\u001b[1;32m    437\u001b[0m         \u001b[0;32mif\u001b[0m \u001b[0mself\u001b[0m\u001b[0;34m.\u001b[0m\u001b[0m_dataset_kind\u001b[0m \u001b[0;34m==\u001b[0m \u001b[0m_DatasetKind\u001b[0m\u001b[0;34m.\u001b[0m\u001b[0mIterable\u001b[0m \u001b[0;32mand\u001b[0m\u001b[0;31m \u001b[0m\u001b[0;31m\\\u001b[0m\u001b[0;34m\u001b[0m\u001b[0;34m\u001b[0m\u001b[0m\n",
      "\u001b[0;32m/opt/conda/lib/python3.7/site-packages/torch/utils/data/dataloader.py\u001b[0m in \u001b[0;36m_next_data\u001b[0;34m(self)\u001b[0m\n\u001b[1;32m   1066\u001b[0m \u001b[0;34m\u001b[0m\u001b[0m\n\u001b[1;32m   1067\u001b[0m             \u001b[0;32massert\u001b[0m \u001b[0;32mnot\u001b[0m \u001b[0mself\u001b[0m\u001b[0;34m.\u001b[0m\u001b[0m_shutdown\u001b[0m \u001b[0;32mand\u001b[0m \u001b[0mself\u001b[0m\u001b[0;34m.\u001b[0m\u001b[0m_tasks_outstanding\u001b[0m \u001b[0;34m>\u001b[0m \u001b[0;36m0\u001b[0m\u001b[0;34m\u001b[0m\u001b[0;34m\u001b[0m\u001b[0m\n\u001b[0;32m-> 1068\u001b[0;31m             \u001b[0midx\u001b[0m\u001b[0;34m,\u001b[0m \u001b[0mdata\u001b[0m \u001b[0;34m=\u001b[0m \u001b[0mself\u001b[0m\u001b[0;34m.\u001b[0m\u001b[0m_get_data\u001b[0m\u001b[0;34m(\u001b[0m\u001b[0;34m)\u001b[0m\u001b[0;34m\u001b[0m\u001b[0;34m\u001b[0m\u001b[0m\n\u001b[0m\u001b[1;32m   1069\u001b[0m             \u001b[0mself\u001b[0m\u001b[0;34m.\u001b[0m\u001b[0m_tasks_outstanding\u001b[0m \u001b[0;34m-=\u001b[0m \u001b[0;36m1\u001b[0m\u001b[0;34m\u001b[0m\u001b[0;34m\u001b[0m\u001b[0m\n\u001b[1;32m   1070\u001b[0m             \u001b[0;32mif\u001b[0m \u001b[0mself\u001b[0m\u001b[0;34m.\u001b[0m\u001b[0m_dataset_kind\u001b[0m \u001b[0;34m==\u001b[0m \u001b[0m_DatasetKind\u001b[0m\u001b[0;34m.\u001b[0m\u001b[0mIterable\u001b[0m\u001b[0;34m:\u001b[0m\u001b[0;34m\u001b[0m\u001b[0;34m\u001b[0m\u001b[0m\n",
      "\u001b[0;32m/opt/conda/lib/python3.7/site-packages/torch/utils/data/dataloader.py\u001b[0m in \u001b[0;36m_get_data\u001b[0;34m(self)\u001b[0m\n\u001b[1;32m   1032\u001b[0m         \u001b[0;32melse\u001b[0m\u001b[0;34m:\u001b[0m\u001b[0;34m\u001b[0m\u001b[0;34m\u001b[0m\u001b[0m\n\u001b[1;32m   1033\u001b[0m             \u001b[0;32mwhile\u001b[0m \u001b[0;32mTrue\u001b[0m\u001b[0;34m:\u001b[0m\u001b[0;34m\u001b[0m\u001b[0;34m\u001b[0m\u001b[0m\n\u001b[0;32m-> 1034\u001b[0;31m                 \u001b[0msuccess\u001b[0m\u001b[0;34m,\u001b[0m \u001b[0mdata\u001b[0m \u001b[0;34m=\u001b[0m \u001b[0mself\u001b[0m\u001b[0;34m.\u001b[0m\u001b[0m_try_get_data\u001b[0m\u001b[0;34m(\u001b[0m\u001b[0;34m)\u001b[0m\u001b[0;34m\u001b[0m\u001b[0;34m\u001b[0m\u001b[0m\n\u001b[0m\u001b[1;32m   1035\u001b[0m                 \u001b[0;32mif\u001b[0m \u001b[0msuccess\u001b[0m\u001b[0;34m:\u001b[0m\u001b[0;34m\u001b[0m\u001b[0;34m\u001b[0m\u001b[0m\n\u001b[1;32m   1036\u001b[0m                     \u001b[0;32mreturn\u001b[0m \u001b[0mdata\u001b[0m\u001b[0;34m\u001b[0m\u001b[0;34m\u001b[0m\u001b[0m\n",
      "\u001b[0;32m/opt/conda/lib/python3.7/site-packages/torch/utils/data/dataloader.py\u001b[0m in \u001b[0;36m_try_get_data\u001b[0;34m(self, timeout)\u001b[0m\n\u001b[1;32m    870\u001b[0m         \u001b[0;31m#   (bool: whether successfully get data, any: data if successful else None)\u001b[0m\u001b[0;34m\u001b[0m\u001b[0;34m\u001b[0m\u001b[0;34m\u001b[0m\u001b[0m\n\u001b[1;32m    871\u001b[0m         \u001b[0;32mtry\u001b[0m\u001b[0;34m:\u001b[0m\u001b[0;34m\u001b[0m\u001b[0;34m\u001b[0m\u001b[0m\n\u001b[0;32m--> 872\u001b[0;31m             \u001b[0mdata\u001b[0m \u001b[0;34m=\u001b[0m \u001b[0mself\u001b[0m\u001b[0;34m.\u001b[0m\u001b[0m_data_queue\u001b[0m\u001b[0;34m.\u001b[0m\u001b[0mget\u001b[0m\u001b[0;34m(\u001b[0m\u001b[0mtimeout\u001b[0m\u001b[0;34m=\u001b[0m\u001b[0mtimeout\u001b[0m\u001b[0;34m)\u001b[0m\u001b[0;34m\u001b[0m\u001b[0;34m\u001b[0m\u001b[0m\n\u001b[0m\u001b[1;32m    873\u001b[0m             \u001b[0;32mreturn\u001b[0m \u001b[0;34m(\u001b[0m\u001b[0;32mTrue\u001b[0m\u001b[0;34m,\u001b[0m \u001b[0mdata\u001b[0m\u001b[0;34m)\u001b[0m\u001b[0;34m\u001b[0m\u001b[0;34m\u001b[0m\u001b[0m\n\u001b[1;32m    874\u001b[0m         \u001b[0;32mexcept\u001b[0m \u001b[0mException\u001b[0m \u001b[0;32mas\u001b[0m \u001b[0me\u001b[0m\u001b[0;34m:\u001b[0m\u001b[0;34m\u001b[0m\u001b[0;34m\u001b[0m\u001b[0m\n",
      "\u001b[0;32m/opt/conda/lib/python3.7/multiprocessing/queues.py\u001b[0m in \u001b[0;36mget\u001b[0;34m(self, block, timeout)\u001b[0m\n\u001b[1;32m    102\u001b[0m                 \u001b[0;32mif\u001b[0m \u001b[0mblock\u001b[0m\u001b[0;34m:\u001b[0m\u001b[0;34m\u001b[0m\u001b[0;34m\u001b[0m\u001b[0m\n\u001b[1;32m    103\u001b[0m                     \u001b[0mtimeout\u001b[0m \u001b[0;34m=\u001b[0m \u001b[0mdeadline\u001b[0m \u001b[0;34m-\u001b[0m \u001b[0mtime\u001b[0m\u001b[0;34m.\u001b[0m\u001b[0mmonotonic\u001b[0m\u001b[0;34m(\u001b[0m\u001b[0;34m)\u001b[0m\u001b[0;34m\u001b[0m\u001b[0;34m\u001b[0m\u001b[0m\n\u001b[0;32m--> 104\u001b[0;31m                     \u001b[0;32mif\u001b[0m \u001b[0;32mnot\u001b[0m \u001b[0mself\u001b[0m\u001b[0;34m.\u001b[0m\u001b[0m_poll\u001b[0m\u001b[0;34m(\u001b[0m\u001b[0mtimeout\u001b[0m\u001b[0;34m)\u001b[0m\u001b[0;34m:\u001b[0m\u001b[0;34m\u001b[0m\u001b[0;34m\u001b[0m\u001b[0m\n\u001b[0m\u001b[1;32m    105\u001b[0m                         \u001b[0;32mraise\u001b[0m \u001b[0mEmpty\u001b[0m\u001b[0;34m\u001b[0m\u001b[0;34m\u001b[0m\u001b[0m\n\u001b[1;32m    106\u001b[0m                 \u001b[0;32melif\u001b[0m \u001b[0;32mnot\u001b[0m \u001b[0mself\u001b[0m\u001b[0;34m.\u001b[0m\u001b[0m_poll\u001b[0m\u001b[0;34m(\u001b[0m\u001b[0;34m)\u001b[0m\u001b[0;34m:\u001b[0m\u001b[0;34m\u001b[0m\u001b[0;34m\u001b[0m\u001b[0m\n",
      "\u001b[0;32m/opt/conda/lib/python3.7/multiprocessing/connection.py\u001b[0m in \u001b[0;36mpoll\u001b[0;34m(self, timeout)\u001b[0m\n\u001b[1;32m    255\u001b[0m         \u001b[0mself\u001b[0m\u001b[0;34m.\u001b[0m\u001b[0m_check_closed\u001b[0m\u001b[0;34m(\u001b[0m\u001b[0;34m)\u001b[0m\u001b[0;34m\u001b[0m\u001b[0;34m\u001b[0m\u001b[0m\n\u001b[1;32m    256\u001b[0m         \u001b[0mself\u001b[0m\u001b[0;34m.\u001b[0m\u001b[0m_check_readable\u001b[0m\u001b[0;34m(\u001b[0m\u001b[0;34m)\u001b[0m\u001b[0;34m\u001b[0m\u001b[0;34m\u001b[0m\u001b[0m\n\u001b[0;32m--> 257\u001b[0;31m         \u001b[0;32mreturn\u001b[0m \u001b[0mself\u001b[0m\u001b[0;34m.\u001b[0m\u001b[0m_poll\u001b[0m\u001b[0;34m(\u001b[0m\u001b[0mtimeout\u001b[0m\u001b[0;34m)\u001b[0m\u001b[0;34m\u001b[0m\u001b[0;34m\u001b[0m\u001b[0m\n\u001b[0m\u001b[1;32m    258\u001b[0m \u001b[0;34m\u001b[0m\u001b[0m\n\u001b[1;32m    259\u001b[0m     \u001b[0;32mdef\u001b[0m \u001b[0m__enter__\u001b[0m\u001b[0;34m(\u001b[0m\u001b[0mself\u001b[0m\u001b[0;34m)\u001b[0m\u001b[0;34m:\u001b[0m\u001b[0;34m\u001b[0m\u001b[0;34m\u001b[0m\u001b[0m\n",
      "\u001b[0;32m/opt/conda/lib/python3.7/multiprocessing/connection.py\u001b[0m in \u001b[0;36m_poll\u001b[0;34m(self, timeout)\u001b[0m\n\u001b[1;32m    412\u001b[0m \u001b[0;34m\u001b[0m\u001b[0m\n\u001b[1;32m    413\u001b[0m     \u001b[0;32mdef\u001b[0m \u001b[0m_poll\u001b[0m\u001b[0;34m(\u001b[0m\u001b[0mself\u001b[0m\u001b[0;34m,\u001b[0m \u001b[0mtimeout\u001b[0m\u001b[0;34m)\u001b[0m\u001b[0;34m:\u001b[0m\u001b[0;34m\u001b[0m\u001b[0;34m\u001b[0m\u001b[0m\n\u001b[0;32m--> 414\u001b[0;31m         \u001b[0mr\u001b[0m \u001b[0;34m=\u001b[0m \u001b[0mwait\u001b[0m\u001b[0;34m(\u001b[0m\u001b[0;34m[\u001b[0m\u001b[0mself\u001b[0m\u001b[0;34m]\u001b[0m\u001b[0;34m,\u001b[0m \u001b[0mtimeout\u001b[0m\u001b[0;34m)\u001b[0m\u001b[0;34m\u001b[0m\u001b[0;34m\u001b[0m\u001b[0m\n\u001b[0m\u001b[1;32m    415\u001b[0m         \u001b[0;32mreturn\u001b[0m \u001b[0mbool\u001b[0m\u001b[0;34m(\u001b[0m\u001b[0mr\u001b[0m\u001b[0;34m)\u001b[0m\u001b[0;34m\u001b[0m\u001b[0;34m\u001b[0m\u001b[0m\n\u001b[1;32m    416\u001b[0m \u001b[0;34m\u001b[0m\u001b[0m\n",
      "\u001b[0;32m/opt/conda/lib/python3.7/multiprocessing/connection.py\u001b[0m in \u001b[0;36mwait\u001b[0;34m(object_list, timeout)\u001b[0m\n\u001b[1;32m    919\u001b[0m \u001b[0;34m\u001b[0m\u001b[0m\n\u001b[1;32m    920\u001b[0m             \u001b[0;32mwhile\u001b[0m \u001b[0;32mTrue\u001b[0m\u001b[0;34m:\u001b[0m\u001b[0;34m\u001b[0m\u001b[0;34m\u001b[0m\u001b[0m\n\u001b[0;32m--> 921\u001b[0;31m                 \u001b[0mready\u001b[0m \u001b[0;34m=\u001b[0m \u001b[0mselector\u001b[0m\u001b[0;34m.\u001b[0m\u001b[0mselect\u001b[0m\u001b[0;34m(\u001b[0m\u001b[0mtimeout\u001b[0m\u001b[0;34m)\u001b[0m\u001b[0;34m\u001b[0m\u001b[0;34m\u001b[0m\u001b[0m\n\u001b[0m\u001b[1;32m    922\u001b[0m                 \u001b[0;32mif\u001b[0m \u001b[0mready\u001b[0m\u001b[0;34m:\u001b[0m\u001b[0;34m\u001b[0m\u001b[0;34m\u001b[0m\u001b[0m\n\u001b[1;32m    923\u001b[0m                     \u001b[0;32mreturn\u001b[0m \u001b[0;34m[\u001b[0m\u001b[0mkey\u001b[0m\u001b[0;34m.\u001b[0m\u001b[0mfileobj\u001b[0m \u001b[0;32mfor\u001b[0m \u001b[0;34m(\u001b[0m\u001b[0mkey\u001b[0m\u001b[0;34m,\u001b[0m \u001b[0mevents\u001b[0m\u001b[0;34m)\u001b[0m \u001b[0;32min\u001b[0m \u001b[0mready\u001b[0m\u001b[0;34m]\u001b[0m\u001b[0;34m\u001b[0m\u001b[0;34m\u001b[0m\u001b[0m\n",
      "\u001b[0;32m/opt/conda/lib/python3.7/selectors.py\u001b[0m in \u001b[0;36mselect\u001b[0;34m(self, timeout)\u001b[0m\n\u001b[1;32m    413\u001b[0m         \u001b[0mready\u001b[0m \u001b[0;34m=\u001b[0m \u001b[0;34m[\u001b[0m\u001b[0;34m]\u001b[0m\u001b[0;34m\u001b[0m\u001b[0;34m\u001b[0m\u001b[0m\n\u001b[1;32m    414\u001b[0m         \u001b[0;32mtry\u001b[0m\u001b[0;34m:\u001b[0m\u001b[0;34m\u001b[0m\u001b[0;34m\u001b[0m\u001b[0m\n\u001b[0;32m--> 415\u001b[0;31m             \u001b[0mfd_event_list\u001b[0m \u001b[0;34m=\u001b[0m \u001b[0mself\u001b[0m\u001b[0;34m.\u001b[0m\u001b[0m_selector\u001b[0m\u001b[0;34m.\u001b[0m\u001b[0mpoll\u001b[0m\u001b[0;34m(\u001b[0m\u001b[0mtimeout\u001b[0m\u001b[0;34m)\u001b[0m\u001b[0;34m\u001b[0m\u001b[0;34m\u001b[0m\u001b[0m\n\u001b[0m\u001b[1;32m    416\u001b[0m         \u001b[0;32mexcept\u001b[0m \u001b[0mInterruptedError\u001b[0m\u001b[0;34m:\u001b[0m\u001b[0;34m\u001b[0m\u001b[0;34m\u001b[0m\u001b[0m\n\u001b[1;32m    417\u001b[0m             \u001b[0;32mreturn\u001b[0m \u001b[0mready\u001b[0m\u001b[0;34m\u001b[0m\u001b[0;34m\u001b[0m\u001b[0m\n",
      "\u001b[0;31mKeyboardInterrupt\u001b[0m: "
     ]
    }
   ],
   "source": [
    "device = torch.device('cuda') # if torch.cuda.is_available() else 'cpu')\n",
    "conv_net = conv_net.to(device)\n",
    "\n",
    "train_cnn(conv_net, train_loader, aug1_loader, aug2_loader, aug3_loader, aug4_loader, aug5_loader, aug6_loader, test_loader, val_loader, device, num_epochs=30, lr=1e-5)"
   ]
  },
  {
   "cell_type": "code",
   "execution_count": null,
   "metadata": {
    "id": "I0gyix6HemH8"
   },
   "outputs": [],
   "source": []
  },
  {
   "cell_type": "code",
   "execution_count": 21,
   "metadata": {
    "execution": {
     "iopub.execute_input": "2021-07-11T19:24:43.166957Z",
     "iopub.status.busy": "2021-07-11T19:24:43.166534Z",
     "iopub.status.idle": "2021-07-11T19:24:44.720962Z",
     "shell.execute_reply": "2021-07-11T19:24:44.719940Z",
     "shell.execute_reply.started": "2021-07-11T19:24:43.166904Z"
    }
   },
   "outputs": [
    {
     "data": {
      "text/plain": [
       "<All keys matched successfully>"
      ]
     },
     "execution_count": 21,
     "metadata": {},
     "output_type": "execute_result"
    }
   ],
   "source": [
    "cn = ResNet(x=24, y=40)\n",
    "cn.load_state_dict(torch.load('model.pt'))"
   ]
  },
  {
   "cell_type": "code",
   "execution_count": 22,
   "metadata": {
    "execution": {
     "iopub.execute_input": "2021-07-11T19:24:46.255936Z",
     "iopub.status.busy": "2021-07-11T19:24:46.255586Z",
     "iopub.status.idle": "2021-07-11T19:24:54.497719Z",
     "shell.execute_reply": "2021-07-11T19:24:54.496843Z",
     "shell.execute_reply.started": "2021-07-11T19:24:46.255904Z"
    }
   },
   "outputs": [
    {
     "data": {
      "text/plain": [
       "0.8846153846153846"
      ]
     },
     "execution_count": 22,
     "metadata": {},
     "output_type": "execute_result"
    }
   ],
   "source": [
    "cn = cn.to(device)\n",
    "accuracy(cn, test_loader, device)"
   ]
  },
  {
   "cell_type": "code",
   "execution_count": 23,
   "metadata": {
    "execution": {
     "iopub.execute_input": "2021-07-11T19:24:58.874274Z",
     "iopub.status.busy": "2021-07-11T19:24:58.873908Z",
     "iopub.status.idle": "2021-07-11T19:25:06.551358Z",
     "shell.execute_reply": "2021-07-11T19:25:06.550501Z",
     "shell.execute_reply.started": "2021-07-11T19:24:58.874236Z"
    }
   },
   "outputs": [
    {
     "data": {
      "text/plain": [
       "<Figure size 720x432 with 0 Axes>"
      ]
     },
     "metadata": {},
     "output_type": "display_data"
    },
    {
     "data": {
      "image/png": "[encoded data removed]",
      "text/plain": [
       "<Figure size 432x288 with 2 Axes>"
      ]
     },
     "metadata": {
      "needs_background": "light"
     },
     "output_type": "display_data"
    }
   ],
   "source": [
    "plot_conmat(cn, test_loader, device);"
   ]
  },
  {
   "cell_type": "code",
   "execution_count": null,
   "metadata": {},
   "outputs": [],
   "source": []
  }
 ],
 "metadata": {
  "kernelspec": {
   "display_name": "Python 3",
   "language": "python",
   "name": "python3"
  },
  "language_info": {
   "codemirror_mode": {
    "name": "ipython",
    "version": 3
   },
   "file_extension": ".py",
   "mimetype": "text/x-python",
   "name": "python",
   "nbconvert_exporter": "python",
   "pygments_lexer": "ipython3",
   "version": "3.7.4"
  }
 },
 "nbformat": 4,
 "nbformat_minor": 4
}
